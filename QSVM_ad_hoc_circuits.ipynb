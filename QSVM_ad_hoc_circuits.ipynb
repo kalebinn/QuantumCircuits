{
 "cells": [
  {
   "cell_type": "markdown",
   "metadata": {},
   "source": [
    "# Classification Using Quantum Support Vector Machine\n",
    "\n",
    "First we need to get a hold of the python script that parses and loads the datasets (datasets.py) for us. This file is provided by Qiskit tutorials [here](https://github.com/Qiskit/qiskit-tutorials/blob/master/qiskit/advanced/aqua/artificial_intelligence/datasets.py).  \n",
    "\n",
    "Generally for a support vector machine, the steps are as follows: \n",
    "Obtain the feature map by applying some non-linear transformation function to the data (classical). Then compute the kernals (quantum). The kernals are computed by using the inner product of each pair of data points in the new feature space (feature map). \n",
    "\n",
    "Due to the complexity of some datasets, computing the kernal is often not efficient, thus we will attemp to do this using quantum computing techniques instead."
   ]
  },
  {
   "cell_type": "code",
   "execution_count": 1,
   "metadata": {},
   "outputs": [],
   "source": [
    "# import the neccessary modules\n",
    "from datasets import *\n",
    "%matplotlib inline \n",
    "\n",
    "from qiskit import BasicAer\n",
    "from qiskit.aqua.utils import split_dataset_to_data_and_labels, map_label_to_class_name\n",
    "from qiskit.aqua.input import ClassificationInput\n",
    "from qiskit.aqua import run_algorithm, QuantumInstance\n",
    "from qiskit.aqua.algorithms import QSVM\n",
    "from qiskit.aqua.components.feature_maps import SecondOrderExpansion\n"
   ]
  },
  {
   "cell_type": "markdown",
   "metadata": {},
   "source": [
    "### Using a fictional ad hoc data set"
   ]
  },
  {
   "cell_type": "code",
   "execution_count": 2,
   "metadata": {},
   "outputs": [
    {
     "data": {
      "image/png": "[encoded data removed]",
      "text/plain": [
       "<Figure size 432x288 with 1 Axes>"
      ]
     },
     "metadata": {
      "needs_background": "light"
     },
     "output_type": "display_data"
    },
    {
     "data": {
      "image/png": "[encoded data removed]",
      "text/plain": [
       "<Figure size 432x288 with 1 Axes>"
      ]
     },
     "metadata": {
      "needs_background": "light"
     },
     "output_type": "display_data"
    },
    {
     "name": "stdout",
     "output_type": "stream",
     "text": [
      "{'A': 0, 'B': 1}\n"
     ]
    }
   ],
   "source": [
    "feature_dim = 2 # at the time of writing, only 2 or 3 feature dimensions are supports.\n",
    "\n",
    "sample_Total, training_input, test_input, class_labels = ad_hoc_data(\n",
    "    training_size = 20,\n",
    "    test_size = 10,\n",
    "    n = feature_dim,\n",
    "    gap = 0.3,\n",
    "    PLOT_DATA = True\n",
    ")\n",
    "\n",
    "extra_test_data = sample_ad_hoc_data(sample_Total, 10, n = feature_dim)\n",
    "datapoints, class_to_label = split_dataset_to_data_and_labels(extra_test_data)\n",
    "\n",
    "print(class_to_label)"
   ]
  },
  {
   "cell_type": "markdown",
   "metadata": {},
   "source": [
    "As we can see, the data above is rather complex. Before we can use the qsvm algorithm, we need to initialize the parameters (dictionary) and the object containing the datasets information. "
   ]
  },
  {
   "cell_type": "code",
   "execution_count": 3,
   "metadata": {},
   "outputs": [],
   "source": [
    "\"\"\"declarative approach\n",
    "params = {\n",
    "    'problem': {'name': 'classification', 'random_seed': 10598},\n",
    "    'algorithm': {\n",
    "        'name': 'QSVM'\n",
    "    },\n",
    "    'backend': {'provider': 'qiskit.BasicAer', 'name': 'qasm_simulator', 'shots': 1024},\n",
    "    'feature_map': {'name': 'SecondOrderExpansion', 'depth': 2, 'entanglement': 'linear'}\n",
    "}\n",
    "algo_input = ClassificationInput(training_input, test_input, datapoints[0])\n",
    "result = run_algorithm(params, algo_input)\n",
    "\"\"\"\n",
    "\n",
    "seed = 50594\n",
    "\n",
    "feature_map = SecondOrderExpansion(feature_dimension = feature_dim,\n",
    "                                  depth = 2,\n",
    "                                  entanglement = 'linear')\n",
    "qsvm = QSVM(feature_map, training_input, test_input, datapoints[0])\n",
    "backend = BasicAer.get_backend ('qasm_simulator')\n",
    "quantum_instance = QuantumInstance (backend, shots = 1024, seed = seed, seed_transpiler = seed)\n",
    "\n",
    "qsvm_results = qsvm.run(quantum_instance)"
   ]
  },
  {
   "cell_type": "code",
   "execution_count": 4,
   "metadata": {},
   "outputs": [
    {
     "name": "stdout",
     "output_type": "stream",
     "text": [
      "Testing accurary (0-1) = 1.0\n",
      "expected outputs : ['A', 'A', 'A', 'A', 'A', 'A', 'A', 'A', 'A', 'A', 'B', 'B', 'B', 'B', 'B', 'B', 'B', 'B', 'B', 'B']\n",
      "prediction: ['A', 'A', 'A', 'A', 'A', 'A', 'A', 'A', 'A', 'A', 'B', 'B', 'B', 'B', 'B', 'B', 'B', 'B', 'B', 'B']\n"
     ]
    }
   ],
   "source": [
    "# lets see how we did!\n",
    "print(f\"Testing accurary (0-1) = {qsvm_results['testing_accuracy']}\")\n",
    "print(f\"expected outputs : {map_label_to_class_name(datapoints[1], qsvm.label_to_class)}\") \n",
    "print(f\"prediction: {qsvm_results['predicted_classes']}\")      "
   ]
  },
  {
   "cell_type": "code",
   "execution_count": 5,
   "metadata": {},
   "outputs": [
    {
     "name": "stdout",
     "output_type": "stream",
     "text": [
      "Training Kernal Matrix\n"
     ]
    },
    {
     "data": {
      "image/png": "[encoded data removed]",
      "text/plain": [
       "<Figure size 432x288 with 1 Axes>"
      ]
     },
     "metadata": {
      "needs_background": "light"
     },
     "output_type": "display_data"
    },
    {
     "name": "stdout",
     "output_type": "stream",
     "text": [
      "There were a total of  {'alphas': array([0.49177673, 1.84358897, 3.00034213, 0.61148956, 0.41587715,\n",
      "       2.59042502, 1.03562966, 1.69424772, 1.4156048 , 1.94752117,\n",
      "       2.86049421]), 'bias': array([-0.04979282]), 'support_vectors': array([[1.0681415 , 5.71769863],\n",
      "       [3.70707933, 1.88495559],\n",
      "       [0.        , 0.75398224],\n",
      "       [2.57610598, 4.46106157],\n",
      "       [0.18849556, 3.58141563],\n",
      "       [6.03185789, 3.89557489],\n",
      "       [5.40353936, 1.69646003],\n",
      "       [4.90088454, 2.0106193 ],\n",
      "       [4.20973416, 0.25132741],\n",
      "       [4.64955713, 2.51327412],\n",
      "       [0.12566371, 4.46106157]]), 'yin': array([-1., -1., -1., -1., -1., -1.,  1.,  1.,  1.,  1.,  1.])}  support vectors\n"
     ]
    }
   ],
   "source": [
    "# let's see what the kernal matrix looks like\n",
    "print(\"Training Kernal Matrix\")\n",
    "kernel_matrix = qsvm_results ['kernel_matrix_training']\n",
    "kernels_mat_plot = plt.imshow(np.asmatrix(kernel_matrix))\n",
    "plt.show()\n",
    "print(\"There were a total of \", qsvm_results['svm'], \" support vectors\")"
   ]
  },
  {
   "cell_type": "markdown",
   "metadata": {},
   "source": [
    "## Retrieving the Quantum Circuits\n",
    "This part is research with Professor Samah Saeed of CCNY. \n",
    "\n",
    "The goal is to retrieve the quantum circuits used. Looking into the QSVM source code, we can see that there is a built-in method that builds the circuits from the dataset. The real challenge is understanding how to call the method and how to read (and modify) the quantum circuits.\n",
    "\n",
    "Starting with the ad_hoc data created by Qiskit"
   ]
  },
  {
   "cell_type": "markdown",
   "metadata": {},
   "source": [
    "### Understanding the dataset\n",
    "\n",
    "The training_data is a dictionary with two keys. These keys represent the labels. Each key corresponds to a `Numpy array` of size `(20,2)`. Each element row in the arrays are a datapoint. The shape of the training set is shown:\n",
    "![training_data](.\\image_src\\ad_hoc_training_data.png)\n",
    "\n",
    "The `Numpy array` for key `'A'` is as follows:\n",
    "![training_data_class_A](.\\image_src\\ad_hoc_training_data_class_A.png)\n",
    "\n",
    "We know that the feature map uses linear entanglement. We also know that the input to the `construct_circuit` method of `qsvm` is two Numpy arrays of the size (Nx1) where N is the size of the training set, i.e. it is a column vector.\n",
    "\n",
    "There is much to learn about the `feature_map` and the corresponding quantum circuit. [Here is a paper about feature maps in qsvms.](https://arxiv.org/pdf/1804.11326.pdf) "
   ]
  },
  {
   "cell_type": "code",
   "execution_count": 10,
   "metadata": {},
   "outputs": [],
   "source": [
    "# parsing the input training data\n",
    "# we're going to remove the key from the \n",
    "A_training_data = training_input.get('A')\n",
    "B_training_data = training_input.get('B')\n",
    "num_circuits = 4 # number of desired circuits"
   ]
  },
  {
   "cell_type": "markdown",
   "metadata": {},
   "source": [
    "There should be N^2 circuits, where N is the size of the dataset. As such, I need every combination of A and B. \n",
    "Since this would bring a total of 400 circuits, we will write some functions to help reduce the number of circuits we construct and display. "
   ]
  },
  {
   "cell_type": "code",
   "execution_count": 22,
   "metadata": {},
   "outputs": [],
   "source": [
    "from scripts.QC_helper import *\n"
   ]
  },
  {
   "cell_type": "code",
   "execution_count": 24,
   "metadata": {},
   "outputs": [
    {
     "name": "stdout",
     "output_type": "stream",
     "text": [
      "Circuit for: x(0) transpose * x(0)\n",
      "circuit info:\n",
      "\tcircuit depth =  20 \tcircuit width =  4\n",
      "Circuit operation breakdown:\n",
      "\t {'u2': 8, 'u1': 12, 'cx': 8}\n",
      "        ┌──────────┐┌────────────┐                        ┌──────────┐»\n",
      "q_0: |0>┤ U2(0,pi) ├┤ U1(11.058) ├──■──────────────────■──┤ U2(0,pi) ├»\n",
      "        ├──────────┤├────────────┤┌─┴─┐┌────────────┐┌─┴─┐├──────────┤»\n",
      "q_1: |0>┤ U2(0,pi) ├┤ U1(8.2938) ├┤ X ├┤ U1(4.8006) ├┤ X ├┤ U2(0,pi) ├»\n",
      "        └──────────┘└────────────┘└───┘└────────────┘└───┘└──────────┘»\n",
      " c_0: 0 ══════════════════════════════════════════════════════════════»\n",
      "                                                                      »\n",
      " c_1: 0 ══════════════════════════════════════════════════════════════»\n",
      "                                                                      »\n",
      "«     ┌────────────┐                                                 »\n",
      "«q_0: ┤ U1(11.058) ├──■──────────────────■────■───────────────────■──»\n",
      "«     ├────────────┤┌─┴─┐┌────────────┐┌─┴─┐┌─┴─┐┌─────────────┐┌─┴─┐»\n",
      "«q_1: ┤ U1(8.2938) ├┤ X ├┤ U1(4.8006) ├┤ X ├┤ X ├┤ U1(-4.8006) ├┤ X ├»\n",
      "«     └────────────┘└───┘└────────────┘└───┘└───┘└─────────────┘└───┘»\n",
      "«c_0: ═══════════════════════════════════════════════════════════════»\n",
      "«                                                                    »\n",
      "«c_1: ═══════════════════════════════════════════════════════════════»\n",
      "«                                                                    »\n",
      "«     ┌─────────────┐┌──────────────┐                         ┌─────────────┐»\n",
      "«q_0: ┤ U1(-11.058) ├┤ U2(-2*pi,pi) ├──■───────────────────■──┤ U1(-11.058) ├»\n",
      "«     ├─────────────┤├──────────────┤┌─┴─┐┌─────────────┐┌─┴─┐├─────────────┤»\n",
      "«q_1: ┤ U1(-8.2938) ├┤ U2(-2*pi,pi) ├┤ X ├┤ U1(-4.8006) ├┤ X ├┤ U1(-8.2938) ├»\n",
      "«     └─────────────┘└──────────────┘└───┘└─────────────┘└───┘└─────────────┘»\n",
      "«c_0: ═══════════════════════════════════════════════════════════════════════»\n",
      "«                                                                            »\n",
      "«c_1: ═══════════════════════════════════════════════════════════════════════»\n",
      "«                                                                            »\n",
      "«     ┌──────────────┐\n",
      "«q_0: ┤ U2(-2*pi,pi) ├\n",
      "«     ├──────────────┤\n",
      "«q_1: ┤ U2(-2*pi,pi) ├\n",
      "«     └──────────────┘\n",
      "«c_0: ════════════════\n",
      "«                     \n",
      "«c_1: ════════════════\n",
      "«                     \n",
      "\n",
      "\n",
      "\n",
      "Circuit for: x(0) transpose * x(1)\n",
      "circuit info:\n",
      "\tcircuit depth =  20 \tcircuit width =  4\n",
      "Circuit operation breakdown:\n",
      "\t {'u2': 8, 'u1': 12, 'cx': 8}\n",
      "        ┌──────────┐┌────────────┐                        ┌──────────┐»\n",
      "q_0: |0>┤ U2(0,pi) ├┤ U1(11.058) ├──■──────────────────■──┤ U2(0,pi) ├»\n",
      "        ├──────────┤├────────────┤┌─┴─┐┌────────────┐┌─┴─┐├──────────┤»\n",
      "q_1: |0>┤ U2(0,pi) ├┤ U1(8.2938) ├┤ X ├┤ U1(4.8006) ├┤ X ├┤ U2(0,pi) ├»\n",
      "        └──────────┘└────────────┘└───┘└────────────┘└───┘└──────────┘»\n",
      " c_0: 0 ══════════════════════════════════════════════════════════════»\n",
      "                                                                      »\n",
      " c_1: 0 ══════════════════════════════════════════════════════════════»\n",
      "                                                                      »\n",
      "«     ┌────────────┐                                                »\n",
      "«q_0: ┤ U1(11.058) ├──■──────────────────■────■──────────────────■──»\n",
      "«     ├────────────┤┌─┴─┐┌────────────┐┌─┴─┐┌─┴─┐┌────────────┐┌─┴─┐»\n",
      "«q_1: ┤ U1(8.2938) ├┤ X ├┤ U1(4.8006) ├┤ X ├┤ X ├┤ U1(-2.724) ├┤ X ├»\n",
      "«     └────────────┘└───┘└────────────┘└───┘└───┘└────────────┘└───┘»\n",
      "«c_0: ══════════════════════════════════════════════════════════════»\n",
      "«                                                                   »\n",
      "«c_1: ══════════════════════════════════════════════════════════════»\n",
      "«                                                                   »\n",
      "«     ┌─────────────┐┌──────────────┐                        ┌─────────────┐»\n",
      "«q_0: ┤ U1(-9.1735) ├┤ U2(-2*pi,pi) ├──■──────────────────■──┤ U1(-9.1735) ├»\n",
      "«     ├─────────────┤├──────────────┤┌─┴─┐┌────────────┐┌─┴─┐├─────────────┤»\n",
      "«q_1: ┤ U1(-8.1681) ├┤ U2(-2*pi,pi) ├┤ X ├┤ U1(-2.724) ├┤ X ├┤ U1(-8.1681) ├»\n",
      "«     └─────────────┘└──────────────┘└───┘└────────────┘└───┘└─────────────┘»\n",
      "«c_0: ══════════════════════════════════════════════════════════════════════»\n",
      "«                                                                           »\n",
      "«c_1: ══════════════════════════════════════════════════════════════════════»\n",
      "«                                                                           »\n",
      "«     ┌──────────────┐\n",
      "«q_0: ┤ U2(-2*pi,pi) ├\n",
      "«     ├──────────────┤\n",
      "«q_1: ┤ U2(-2*pi,pi) ├\n",
      "«     └──────────────┘\n",
      "«c_0: ════════════════\n",
      "«                     \n",
      "«c_1: ════════════════\n",
      "«                     \n",
      "\n",
      "\n",
      "\n",
      "Circuit for: x(1) transpose * x(0)\n",
      "circuit info:\n",
      "\tcircuit depth =  20 \tcircuit width =  4\n",
      "Circuit operation breakdown:\n",
      "\t {'u2': 8, 'u1': 12, 'cx': 8}\n",
      "        ┌──────────┐┌────────────┐                       ┌──────────┐»\n",
      "q_0: |0>┤ U2(0,pi) ├┤ U1(9.1735) ├──■─────────────────■──┤ U2(0,pi) ├»\n",
      "        ├──────────┤├────────────┤┌─┴─┐┌───────────┐┌─┴─┐├──────────┤»\n",
      "q_1: |0>┤ U2(0,pi) ├┤ U1(8.1681) ├┤ X ├┤ U1(2.724) ├┤ X ├┤ U2(0,pi) ├»\n",
      "        └──────────┘└────────────┘└───┘└───────────┘└───┘└──────────┘»\n",
      " c_0: 0 ═════════════════════════════════════════════════════════════»\n",
      "                                                                     »\n",
      " c_1: 0 ═════════════════════════════════════════════════════════════»\n",
      "                                                                     »\n",
      "«     ┌────────────┐                                                »\n",
      "«q_0: ┤ U1(9.1735) ├──■─────────────────■────■───────────────────■──»\n",
      "«     ├────────────┤┌─┴─┐┌───────────┐┌─┴─┐┌─┴─┐┌─────────────┐┌─┴─┐»\n",
      "«q_1: ┤ U1(8.1681) ├┤ X ├┤ U1(2.724) ├┤ X ├┤ X ├┤ U1(-4.8006) ├┤ X ├»\n",
      "«     └────────────┘└───┘└───────────┘└───┘└───┘└─────────────┘└───┘»\n",
      "«c_0: ══════════════════════════════════════════════════════════════»\n",
      "«                                                                   »\n",
      "«c_1: ══════════════════════════════════════════════════════════════»\n",
      "«                                                                   »\n",
      "«     ┌─────────────┐┌──────────────┐                         ┌─────────────┐»\n",
      "«q_0: ┤ U1(-11.058) ├┤ U2(-2*pi,pi) ├──■───────────────────■──┤ U1(-11.058) ├»\n",
      "«     ├─────────────┤├──────────────┤┌─┴─┐┌─────────────┐┌─┴─┐├─────────────┤»\n",
      "«q_1: ┤ U1(-8.2938) ├┤ U2(-2*pi,pi) ├┤ X ├┤ U1(-4.8006) ├┤ X ├┤ U1(-8.2938) ├»\n",
      "«     └─────────────┘└──────────────┘└───┘└─────────────┘└───┘└─────────────┘»\n",
      "«c_0: ═══════════════════════════════════════════════════════════════════════»\n",
      "«                                                                            »\n",
      "«c_1: ═══════════════════════════════════════════════════════════════════════»\n",
      "«                                                                            »\n",
      "«     ┌──────────────┐\n",
      "«q_0: ┤ U2(-2*pi,pi) ├\n",
      "«     ├──────────────┤\n",
      "«q_1: ┤ U2(-2*pi,pi) ├\n",
      "«     └──────────────┘\n",
      "«c_0: ════════════════\n",
      "«                     \n",
      "«c_1: ════════════════\n",
      "«                     \n",
      "\n",
      "\n",
      "\n",
      "Circuit for: x(1) transpose * x(1)\n",
      "circuit info:\n",
      "\tcircuit depth =  20 \tcircuit width =  4\n",
      "Circuit operation breakdown:\n",
      "\t {'u2': 8, 'u1': 12, 'cx': 8}\n",
      "        ┌──────────┐┌────────────┐                       ┌──────────┐»\n",
      "q_0: |0>┤ U2(0,pi) ├┤ U1(9.1735) ├──■─────────────────■──┤ U2(0,pi) ├»\n",
      "        ├──────────┤├────────────┤┌─┴─┐┌───────────┐┌─┴─┐├──────────┤»\n",
      "q_1: |0>┤ U2(0,pi) ├┤ U1(8.1681) ├┤ X ├┤ U1(2.724) ├┤ X ├┤ U2(0,pi) ├»\n",
      "        └──────────┘└────────────┘└───┘└───────────┘└───┘└──────────┘»\n",
      " c_0: 0 ═════════════════════════════════════════════════════════════»\n",
      "                                                                     »\n",
      " c_1: 0 ═════════════════════════════════════════════════════════════»\n",
      "                                                                     »\n",
      "«     ┌────────────┐                                               »\n",
      "«q_0: ┤ U1(9.1735) ├──■─────────────────■────■──────────────────■──»\n",
      "«     ├────────────┤┌─┴─┐┌───────────┐┌─┴─┐┌─┴─┐┌────────────┐┌─┴─┐»\n",
      "«q_1: ┤ U1(8.1681) ├┤ X ├┤ U1(2.724) ├┤ X ├┤ X ├┤ U1(-2.724) ├┤ X ├»\n",
      "«     └────────────┘└───┘└───────────┘└───┘└───┘└────────────┘└───┘»\n",
      "«c_0: ═════════════════════════════════════════════════════════════»\n",
      "«                                                                  »\n",
      "«c_1: ═════════════════════════════════════════════════════════════»\n",
      "«                                                                  »\n",
      "«     ┌─────────────┐┌──────────────┐                        ┌─────────────┐»\n",
      "«q_0: ┤ U1(-9.1735) ├┤ U2(-2*pi,pi) ├──■──────────────────■──┤ U1(-9.1735) ├»\n",
      "«     ├─────────────┤├──────────────┤┌─┴─┐┌────────────┐┌─┴─┐├─────────────┤»\n",
      "«q_1: ┤ U1(-8.1681) ├┤ U2(-2*pi,pi) ├┤ X ├┤ U1(-2.724) ├┤ X ├┤ U1(-8.1681) ├»\n",
      "«     └─────────────┘└──────────────┘└───┘└────────────┘└───┘└─────────────┘»\n",
      "«c_0: ══════════════════════════════════════════════════════════════════════»\n",
      "«                                                                           »\n",
      "«c_1: ══════════════════════════════════════════════════════════════════════»\n",
      "«                                                                           »\n",
      "«     ┌──────────────┐\n",
      "«q_0: ┤ U2(-2*pi,pi) ├\n",
      "«     ├──────────────┤\n",
      "«q_1: ┤ U2(-2*pi,pi) ├\n",
      "«     └──────────────┘\n",
      "«c_0: ════════════════\n",
      "«                     \n",
      "«c_1: ════════════════\n",
      "«                     \n",
      "\n",
      "\n",
      "\n",
      "4  circuits were drawn.\n"
     ]
    }
   ],
   "source": [
    "data_for_qc = prepare_data_set_for_qc(num_circuits,\n",
    "                                      A_training_data, \n",
    "                                      B_training_data)\n",
    "draw_circuits(qsvm, data_for_qc)"
   ]
  },
  {
   "cell_type": "code",
   "execution_count": null,
   "metadata": {},
   "outputs": [],
   "source": []
  }
 ],
 "metadata": {
  "kernelspec": {
   "display_name": "Python 3",
   "language": "python",
   "name": "python3"
  },
  "language_info": {
   "codemirror_mode": {
    "name": "ipython",
    "version": 3
   },
   "file_extension": ".py",
   "mimetype": "text/x-python",
   "name": "python",
   "nbconvert_exporter": "python",
   "pygments_lexer": "ipython3",
   "version": "3.7.3"
  }
 },
 "nbformat": 4,
 "nbformat_minor": 2
}
