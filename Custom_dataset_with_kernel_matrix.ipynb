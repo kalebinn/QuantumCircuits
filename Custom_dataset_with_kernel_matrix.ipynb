{
 "cells": [
  {
   "cell_type": "markdown",
   "metadata": {},
   "source": [
    "# Generating our own data for QSVM (Construct circuit and Construct Kernel Matrix methods)"
   ]
  },
  {
   "cell_type": "code",
   "execution_count": 1,
   "metadata": {},
   "outputs": [],
   "source": [
    "from scripts.datasets import *\n",
    "%matplotlib inline\n",
    "from scripts.QC_helper import *\n",
    "\n",
    "from qiskit.aqua.utils import split_dataset_to_data_and_labels\n",
    "from qiskit.aqua.utils import map_label_to_class_name\n",
    "from qiskit.aqua.input import ClassificationInput"
   ]
  },
  {
   "cell_type": "code",
   "execution_count": 2,
   "metadata": {},
   "outputs": [],
   "source": [
    "np.random.seed(seed = 55) # if new data is desired, comment this line out\n",
    "A_train_data = np.random.random_sample((20,2)) * 5\n",
    "B_train_data = 5*np.random.random_sample((20,2)) + 5.75\n",
    "training_data = {\n",
    "    'a' : A_train_data,\n",
    "    'b' : B_train_data\n",
    "}"
   ]
  },
  {
   "cell_type": "code",
   "execution_count": 3,
   "metadata": {},
   "outputs": [],
   "source": [
    "import matplotlib.pyplot as plt"
   ]
  },
  {
   "cell_type": "code",
   "execution_count": 4,
   "metadata": {},
   "outputs": [
    {
     "data": {
      "image/png": "[encoded data removed]",
      "text/plain": [
       "<Figure size 432x288 with 1 Axes>"
      ]
     },
     "metadata": {
      "needs_background": "light"
     },
     "output_type": "display_data"
    }
   ],
   "source": [
    "# plot the training data\n",
    "plt.plot(A_train_data[:, 0], A_train_data[:, 1], 'o', label = 'A')\n",
    "plt.plot(B_train_data[:,0], B_train_data[:,1], 'o', label = 'B') \n",
    "\n",
    "plt.title(\"Training Data\")\n",
    "plt.legend()\n",
    "plt.show()"
   ]
  },
  {
   "cell_type": "code",
   "execution_count": 5,
   "metadata": {},
   "outputs": [
    {
     "name": "stdout",
     "output_type": "stream",
     "text": [
      "[[0.46554143 4.8582796 ]\n",
      " [2.4192999  1.21261351]\n",
      " [2.65561915 1.42772118]\n",
      " [4.31315189 0.20550077]\n",
      " [0.54173867 3.83580023]\n",
      " [0.25714354 3.87858269]\n",
      " [0.04569471 3.09156057]\n",
      " [4.09354666 4.49292861]\n",
      " [4.92805791 2.48372461]\n",
      " [1.76159463 4.33542497]\n",
      " [1.98440873 3.2182861 ]\n",
      " [0.10226657 4.04042271]\n",
      " [2.14806651 2.79273261]\n",
      " [3.89555645 2.01278562]\n",
      " [4.53997459 3.24984805]\n",
      " [3.63636114 3.8978052 ]\n",
      " [1.75363724 0.0982996 ]\n",
      " [1.79279285 1.51612726]\n",
      " [4.59530996 1.26698465]\n",
      " [1.20577386 4.54961574]]\n",
      "[[ 9.63407675  7.89882938]\n",
      " [10.35895179  9.28849839]\n",
      " [ 6.10884711  7.36040555]\n",
      " [ 9.97559781  8.92846475]\n",
      " [ 8.82692067  9.79157201]\n",
      " [ 8.93219045  7.08710035]\n",
      " [ 7.67777301  7.4747888 ]\n",
      " [ 6.75164874  7.0511594 ]\n",
      " [ 9.11351515  9.99182893]\n",
      " [ 6.76387531  9.60566786]\n",
      " [ 9.90549643  8.44628533]\n",
      " [ 7.61231587  6.76590892]\n",
      " [ 6.68962829  7.36852731]\n",
      " [ 6.11164686  6.71610286]\n",
      " [10.34390656  8.81798837]\n",
      " [ 5.93634494  7.12074241]\n",
      " [ 9.3665023  10.4203149 ]\n",
      " [ 7.74111542  9.33521217]\n",
      " [ 9.82732552  5.90219518]\n",
      " [ 9.88338359  8.14012847]]\n"
     ]
    }
   ],
   "source": [
    "print(A_train_data)\n",
    "print(B_train_data)"
   ]
  },
  {
   "cell_type": "code",
   "execution_count": 6,
   "metadata": {},
   "outputs": [],
   "source": [
    "# quickly Normalize the data\n",
    "def normalize_data (A_data, B_data):\n",
    "    if (np.max(A_data) > np.max(B_data)):\n",
    "        max = np.max(A_data)\n",
    "    else:\n",
    "        max = np.max(B_data)\n",
    "    norm_A = A_data/max\n",
    "    norm_B = B_data/max\n",
    "    return norm_A, norm_B"
   ]
  },
  {
   "cell_type": "code",
   "execution_count": 7,
   "metadata": {},
   "outputs": [
    {
     "data": {
      "image/png": "[encoded data removed]",
      "text/plain": [
       "<Figure size 432x288 with 1 Axes>"
      ]
     },
     "metadata": {
      "needs_background": "light"
     },
     "output_type": "display_data"
    }
   ],
   "source": [
    "A_train_norm, B_train_norm = normalize_data(A_train_data, B_train_data)\n",
    "\n",
    "plt.plot(A_train_norm[:, 0], A_train_norm[:, 1], 'o', label = 'A')\n",
    "plt.plot(B_train_norm[:,0], B_train_norm[:,1], 'o', label = 'B') \n",
    "\n",
    "plt.title(\"Normalized Training Data\")\n",
    "plt.legend()\n",
    "plt.show()"
   ]
  },
  {
   "cell_type": "code",
   "execution_count": 8,
   "metadata": {},
   "outputs": [],
   "source": [
    "# put data into dictionary\n",
    "training_norm_data = {\n",
    "    'A' : A_train_norm,\n",
    "    'B' : B_train_norm\n",
    "}"
   ]
  },
  {
   "cell_type": "code",
   "execution_count": 9,
   "metadata": {},
   "outputs": [
    {
     "name": "stdout",
     "output_type": "stream",
     "text": [
      "[[2.8447011  0.32982114]\n",
      " [4.44055335 4.64829089]\n",
      " [3.39846021 2.72137908]\n",
      " [0.93924671 3.09131731]\n",
      " [1.87063884 4.66791084]\n",
      " [3.24070601 3.35895589]\n",
      " [4.65786784 3.34994043]\n",
      " [1.16062256 1.27917176]\n",
      " [1.12495912 0.40350328]\n",
      " [0.92000121 3.62474684]]\n"
     ]
    }
   ],
   "source": [
    "# quickly create testing set\n",
    "# i.e. change the seed and matrix length, and repeat the process above (without visualization)\n",
    "# we do not want to see this data, we just want to confirm that it is actually different.\n",
    "np.random.seed(seed = 75) # if new data is desired, comment this line out\n",
    "A_test_data = np.random.random_sample((10,2)) * 5\n",
    "B_test_data = 5*np.random.random_sample((10,2)) + 5.75\n",
    "print(A_test_data)"
   ]
  },
  {
   "cell_type": "code",
   "execution_count": 10,
   "metadata": {},
   "outputs": [],
   "source": [
    "A_test_norm, B_test_norm = normalize_data(A_test_data, B_test_data)\n",
    "testing_norm_data = {\n",
    "    'A' : A_test_norm,\n",
    "    'B' : B_test_norm\n",
    "}"
   ]
  },
  {
   "cell_type": "markdown",
   "metadata": {},
   "source": [
    "# Begin QSVM"
   ]
  },
  {
   "cell_type": "code",
   "execution_count": 11,
   "metadata": {},
   "outputs": [],
   "source": [
    "feature_dim = 2\n",
    "seed = 10598\n",
    "feature_map = SecondOrderExpansion (feature_dimension = feature_dim,\n",
    "                                   depth = 2,\n",
    "                                   entanglement = 'linear')"
   ]
  },
  {
   "cell_type": "code",
   "execution_count": 12,
   "metadata": {},
   "outputs": [],
   "source": [
    "qsvm = QSVM(feature_map, training_norm_data, testing_norm_data)\n",
    "backend = BasicAer.get_backend('qasm_simulator')\n",
    "quantum_instance = QuantumInstance(backend, shots = 1024, seed = seed,\n",
    "                                  seed_transpiler = seed)"
   ]
  },
  {
   "cell_type": "code",
   "execution_count": 13,
   "metadata": {},
   "outputs": [
    {
     "name": "stdout",
     "output_type": "stream",
     "text": [
      "Sucess Ratio (0-1) = 1.0\n"
     ]
    }
   ],
   "source": [
    "qsvm_results = qsvm.run(quantum_instance)\n",
    "\n",
    "# look at the success rate \n",
    "# (should be 100 % accuracy considering how nicely our data is placed)\n",
    "print(f\"Sucess Ratio (0-1) = {qsvm_results['testing_accuracy']}\")"
   ]
  },
  {
   "cell_type": "markdown",
   "metadata": {},
   "source": [
    "# View the Quantum Circuits \n",
    "using the scripts I previously prepared"
   ]
  },
  {
   "cell_type": "code",
   "execution_count": 14,
   "metadata": {},
   "outputs": [
    {
     "name": "stdout",
     "output_type": "stream",
     "text": [
      "Circuit for: x(0) transpose * x(0)\n",
      "circuit info:\n",
      "\tcircuit depth =  21 \tcircuit width =  4\n",
      "Circuit operation breakdown:\n",
      "\t {'u2': 8, 'u1': 12, 'cx': 8, 'barrier': 1, 'measure': 2}\n",
      "        ┌──────────┐┌──────────────┐                        ┌──────────┐»\n",
      "q_0: |0>┤ U2(0,pi) ├┤ U1(0.089353) ├──■──────────────────■──┤ U2(0,pi) ├»\n",
      "        ├──────────┤├─────────────┬┘┌─┴─┐┌────────────┐┌─┴─┐├──────────┤»\n",
      "q_1: |0>┤ U2(0,pi) ├┤ U1(0.93246) ├─┤ X ├┤ U1(16.571) ├┤ X ├┤ U2(0,pi) ├»\n",
      "        └──────────┘└─────────────┘ └───┘└────────────┘└───┘└──────────┘»\n",
      " c_0: 0 ════════════════════════════════════════════════════════════════»\n",
      "                                                                        »\n",
      " c_1: 0 ════════════════════════════════════════════════════════════════»\n",
      "                                                                        »\n",
      "«     ┌──────────────┐                                                 »\n",
      "«q_0: ┤ U1(0.089353) ├──■──────────────────■────■───────────────────■──»\n",
      "«     ├─────────────┬┘┌─┴─┐┌────────────┐┌─┴─┐┌─┴─┐┌─────────────┐┌─┴─┐»\n",
      "«q_1: ┤ U1(0.93246) ├─┤ X ├┤ U1(16.571) ├┤ X ├┤ X ├┤ U1(-16.571) ├┤ X ├»\n",
      "«     └─────────────┘ └───┘└────────────┘└───┘└───┘└─────────────┘└───┘»\n",
      "«c_0: ═════════════════════════════════════════════════════════════════»\n",
      "«                                                                      »\n",
      "«c_1: ═════════════════════════════════════════════════════════════════»\n",
      "«                                                                      »\n",
      "«     ┌───────────────┐┌──────────────┐                         »\n",
      "«q_0: ┤ U1(-0.089353) ├┤ U2(-2*pi,pi) ├──■───────────────────■──»\n",
      "«     └┬──────────────┤├──────────────┤┌─┴─┐┌─────────────┐┌─┴─┐»\n",
      "«q_1: ─┤ U1(-0.93246) ├┤ U2(-2*pi,pi) ├┤ X ├┤ U1(-16.571) ├┤ X ├»\n",
      "«      └──────────────┘└──────────────┘└───┘└─────────────┘└───┘»\n",
      "«c_0: ══════════════════════════════════════════════════════════»\n",
      "«                                                               »\n",
      "«c_1: ══════════════════════════════════════════════════════════»\n",
      "«                                                               »\n",
      "«     ┌───────────────┐┌──────────────┐ ░ ┌─┐   \n",
      "«q_0: ┤ U1(-0.089353) ├┤ U2(-2*pi,pi) ├─░─┤M├───\n",
      "«     └┬──────────────┤├──────────────┤ ░ └╥┘┌─┐\n",
      "«q_1: ─┤ U1(-0.93246) ├┤ U2(-2*pi,pi) ├─░──╫─┤M├\n",
      "«      └──────────────┘└──────────────┘ ░  ║ └╥┘\n",
      "«c_0: ═════════════════════════════════════╩══╬═\n",
      "«                                             ║ \n",
      "«c_1: ════════════════════════════════════════╩═\n",
      "«                                               \n",
      "\n",
      "\n",
      "\n",
      "Circuit for: x(0) transpose * x(1)\n",
      "circuit info:\n",
      "\tcircuit depth =  21 \tcircuit width =  4\n",
      "Circuit operation breakdown:\n",
      "\t {'u2': 8, 'u1': 12, 'cx': 8, 'barrier': 1, 'measure': 2}\n",
      "        ┌──────────┐┌──────────────┐                        ┌──────────┐»\n",
      "q_0: |0>┤ U2(0,pi) ├┤ U1(0.089353) ├──■──────────────────■──┤ U2(0,pi) ├»\n",
      "        ├──────────┤├─────────────┬┘┌─┴─┐┌────────────┐┌─┴─┐├──────────┤»\n",
      "q_1: |0>┤ U2(0,pi) ├┤ U1(0.93246) ├─┤ X ├┤ U1(16.571) ├┤ X ├┤ U2(0,pi) ├»\n",
      "        └──────────┘└─────────────┘ └───┘└────────────┘└───┘└──────────┘»\n",
      " c_0: 0 ════════════════════════════════════════════════════════════════»\n",
      "                                                                        »\n",
      " c_1: 0 ════════════════════════════════════════════════════════════════»\n",
      "                                                                        »\n",
      "«     ┌──────────────┐                                                 »\n",
      "«q_0: ┤ U1(0.089353) ├──■──────────────────■────■───────────────────■──»\n",
      "«     ├─────────────┬┘┌─┴─┐┌────────────┐┌─┴─┐┌─┴─┐┌─────────────┐┌─┴─┐»\n",
      "«q_1: ┤ U1(0.93246) ├─┤ X ├┤ U1(16.571) ├┤ X ├┤ X ├┤ U1(-10.569) ├┤ X ├»\n",
      "«     └─────────────┘ └───┘└────────────┘└───┘└───┘└─────────────┘└───┘»\n",
      "«c_0: ═════════════════════════════════════════════════════════════════»\n",
      "«                                                                      »\n",
      "«c_1: ═════════════════════════════════════════════════════════════════»\n",
      "«                                                                      »\n",
      "«     ┌─────────────┐┌──────────────┐                         ┌─────────────┐»\n",
      "«q_0: ┤ U1(-1.8491) ├┤ U2(-2*pi,pi) ├──■───────────────────■──┤ U1(-1.8491) ├»\n",
      "«     └┬────────────┤├──────────────┤┌─┴─┐┌─────────────┐┌─┴─┐└┬────────────┤»\n",
      "«q_1: ─┤ U1(-1.516) ├┤ U2(-2*pi,pi) ├┤ X ├┤ U1(-10.569) ├┤ X ├─┤ U1(-1.516) ├»\n",
      "«      └────────────┘└──────────────┘└───┘└─────────────┘└───┘ └────────────┘»\n",
      "«c_0: ═══════════════════════════════════════════════════════════════════════»\n",
      "«                                                                            »\n",
      "«c_1: ═══════════════════════════════════════════════════════════════════════»\n",
      "«                                                                            »\n",
      "«     ┌──────────────┐ ░ ┌─┐   \n",
      "«q_0: ┤ U2(-2*pi,pi) ├─░─┤M├───\n",
      "«     ├──────────────┤ ░ └╥┘┌─┐\n",
      "«q_1: ┤ U2(-2*pi,pi) ├─░──╫─┤M├\n",
      "«     └──────────────┘ ░  ║ └╥┘\n",
      "«c_0: ════════════════════╩══╬═\n",
      "«                            ║ \n",
      "«c_1: ═══════════════════════╩═\n",
      "«                              \n",
      "\n",
      "\n",
      "\n",
      "Circuit for: x(1) transpose * x(0)\n",
      "circuit info:\n",
      "\tcircuit depth =  21 \tcircuit width =  4\n",
      "Circuit operation breakdown:\n",
      "\t {'u2': 8, 'u1': 12, 'cx': 8, 'barrier': 1, 'measure': 2}\n",
      "        ┌──────────┐┌────────────┐                        ┌──────────┐»\n",
      "q_0: |0>┤ U2(0,pi) ├┤ U1(1.8491) ├──■──────────────────■──┤ U2(0,pi) ├»\n",
      "        ├──────────┤├───────────┬┘┌─┴─┐┌────────────┐┌─┴─┐├──────────┤»\n",
      "q_1: |0>┤ U2(0,pi) ├┤ U1(1.516) ├─┤ X ├┤ U1(10.569) ├┤ X ├┤ U2(0,pi) ├»\n",
      "        └──────────┘└───────────┘ └───┘└────────────┘└───┘└──────────┘»\n",
      " c_0: 0 ══════════════════════════════════════════════════════════════»\n",
      "                                                                      »\n",
      " c_1: 0 ══════════════════════════════════════════════════════════════»\n",
      "                                                                      »\n",
      "«     ┌────────────┐                                                 »\n",
      "«q_0: ┤ U1(1.8491) ├──■──────────────────■────■───────────────────■──»\n",
      "«     ├───────────┬┘┌─┴─┐┌────────────┐┌─┴─┐┌─┴─┐┌─────────────┐┌─┴─┐»\n",
      "«q_1: ┤ U1(1.516) ├─┤ X ├┤ U1(10.569) ├┤ X ├┤ X ├┤ U1(-16.571) ├┤ X ├»\n",
      "«     └───────────┘ └───┘└────────────┘└───┘└───┘└─────────────┘└───┘»\n",
      "«c_0: ═══════════════════════════════════════════════════════════════»\n",
      "«                                                                    »\n",
      "«c_1: ═══════════════════════════════════════════════════════════════»\n",
      "«                                                                    »\n",
      "«     ┌───────────────┐┌──────────────┐                         »\n",
      "«q_0: ┤ U1(-0.089353) ├┤ U2(-2*pi,pi) ├──■───────────────────■──»\n",
      "«     └┬──────────────┤├──────────────┤┌─┴─┐┌─────────────┐┌─┴─┐»\n",
      "«q_1: ─┤ U1(-0.93246) ├┤ U2(-2*pi,pi) ├┤ X ├┤ U1(-16.571) ├┤ X ├»\n",
      "«      └──────────────┘└──────────────┘└───┘└─────────────┘└───┘»\n",
      "«c_0: ══════════════════════════════════════════════════════════»\n",
      "«                                                               »\n",
      "«c_1: ══════════════════════════════════════════════════════════»\n",
      "«                                                               »\n",
      "«     ┌───────────────┐┌──────────────┐ ░ ┌─┐   \n",
      "«q_0: ┤ U1(-0.089353) ├┤ U2(-2*pi,pi) ├─░─┤M├───\n",
      "«     └┬──────────────┤├──────────────┤ ░ └╥┘┌─┐\n",
      "«q_1: ─┤ U1(-0.93246) ├┤ U2(-2*pi,pi) ├─░──╫─┤M├\n",
      "«      └──────────────┘└──────────────┘ ░  ║ └╥┘\n",
      "«c_0: ═════════════════════════════════════╩══╬═\n",
      "«                                             ║ \n",
      "«c_1: ════════════════════════════════════════╩═\n",
      "«                                               \n",
      "\n",
      "\n",
      "\n",
      "Circuit for: x(1) transpose * x(1)\n",
      "circuit info:\n",
      "\tcircuit depth =  21 \tcircuit width =  4\n",
      "Circuit operation breakdown:\n",
      "\t {'u2': 8, 'u1': 12, 'cx': 8, 'barrier': 1, 'measure': 2}\n",
      "        ┌──────────┐┌────────────┐                        ┌──────────┐»\n",
      "q_0: |0>┤ U2(0,pi) ├┤ U1(1.8491) ├──■──────────────────■──┤ U2(0,pi) ├»\n",
      "        ├──────────┤├───────────┬┘┌─┴─┐┌────────────┐┌─┴─┐├──────────┤»\n",
      "q_1: |0>┤ U2(0,pi) ├┤ U1(1.516) ├─┤ X ├┤ U1(10.569) ├┤ X ├┤ U2(0,pi) ├»\n",
      "        └──────────┘└───────────┘ └───┘└────────────┘└───┘└──────────┘»\n",
      " c_0: 0 ══════════════════════════════════════════════════════════════»\n",
      "                                                                      »\n",
      " c_1: 0 ══════════════════════════════════════════════════════════════»\n",
      "                                                                      »\n",
      "«     ┌────────────┐                                                 »\n",
      "«q_0: ┤ U1(1.8491) ├──■──────────────────■────■───────────────────■──»\n",
      "«     ├───────────┬┘┌─┴─┐┌────────────┐┌─┴─┐┌─┴─┐┌─────────────┐┌─┴─┐»\n",
      "«q_1: ┤ U1(1.516) ├─┤ X ├┤ U1(10.569) ├┤ X ├┤ X ├┤ U1(-10.569) ├┤ X ├»\n",
      "«     └───────────┘ └───┘└────────────┘└───┘└───┘└─────────────┘└───┘»\n",
      "«c_0: ═══════════════════════════════════════════════════════════════»\n",
      "«                                                                    »\n",
      "«c_1: ═══════════════════════════════════════════════════════════════»\n",
      "«                                                                    »\n",
      "«     ┌─────────────┐┌──────────────┐                         ┌─────────────┐»\n",
      "«q_0: ┤ U1(-1.8491) ├┤ U2(-2*pi,pi) ├──■───────────────────■──┤ U1(-1.8491) ├»\n",
      "«     └┬────────────┤├──────────────┤┌─┴─┐┌─────────────┐┌─┴─┐└┬────────────┤»\n",
      "«q_1: ─┤ U1(-1.516) ├┤ U2(-2*pi,pi) ├┤ X ├┤ U1(-10.569) ├┤ X ├─┤ U1(-1.516) ├»\n",
      "«      └────────────┘└──────────────┘└───┘└─────────────┘└───┘ └────────────┘»\n",
      "«c_0: ═══════════════════════════════════════════════════════════════════════»\n",
      "«                                                                            »\n",
      "«c_1: ═══════════════════════════════════════════════════════════════════════»\n",
      "«                                                                            »\n",
      "«     ┌──────────────┐ ░ ┌─┐   \n",
      "«q_0: ┤ U2(-2*pi,pi) ├─░─┤M├───\n",
      "«     ├──────────────┤ ░ └╥┘┌─┐\n",
      "«q_1: ┤ U2(-2*pi,pi) ├─░──╫─┤M├\n",
      "«     └──────────────┘ ░  ║ └╥┘\n",
      "«c_0: ════════════════════╩══╬═\n",
      "«                            ║ \n",
      "«c_1: ═══════════════════════╩═\n",
      "«                              \n",
      "\n",
      "\n",
      "\n"
     ]
    }
   ],
   "source": [
    "num_desired_circuits = 4\n",
    "test_data_for_qc = prepare_data_set_for_qc(num_desired_circuits,\n",
    "                                               A_train_norm,\n",
    "                                               B_train_norm)\n",
    "draw_circuits(qsvm, test_data_for_qc, add_measurement = True)"
   ]
  },
  {
   "cell_type": "code",
   "execution_count": 16,
   "metadata": {},
   "outputs": [],
   "source": [
    "kernel_A_train = qsvm.construct_kernel_matrix(A_train_norm)\n",
    "kernel_B_train = qsvm.construct_kernel_matrix(B_train_norm)\n",
    "kernel_qc = qsvm.construct_kernel_matrix(test_data_for_qc)"
   ]
  },
  {
   "cell_type": "code",
   "execution_count": 17,
   "metadata": {},
   "outputs": [
    {
     "name": "stdout",
     "output_type": "stream",
     "text": [
      "[[1.         0.66503906 0.77246094 0.84570312 0.86132812 0.79394531\n",
      "  0.46972656 0.38183594 0.64648438 0.9453125  0.95898438 0.79882812\n",
      "  0.92382812 0.89746094 0.58496094 0.66308594 0.19921875 0.56054688\n",
      "  0.859375   0.98535156]\n",
      " [0.66503906 1.         0.97851562 0.87988281 0.90136719 0.92089844\n",
      "  0.93359375 0.02050781 0.13671875 0.48632812 0.76757812 0.91308594\n",
      "  0.83789062 0.53222656 0.10058594 0.14355469 0.71777344 0.99023438\n",
      "  0.50683594 0.56933594]\n",
      " [0.77246094 0.97851562 1.         0.9453125  0.95019531 0.95410156\n",
      "  0.88574219 0.06835938 0.22949219 0.62597656 0.87695312 0.94824219\n",
      "  0.91796875 0.6796875  0.17480469 0.2421875  0.578125   0.93457031\n",
      "  0.65625    0.69433594]\n",
      " [0.84570312 0.87988281 0.9453125  1.         0.91601562 0.90625\n",
      "  0.75390625 0.16894531 0.36132812 0.75488281 0.92089844 0.90234375\n",
      "  0.95019531 0.81445312 0.30957031 0.40722656 0.38085938 0.79785156\n",
      "  0.79394531 0.79980469]\n",
      " [0.86132812 0.90136719 0.95019531 0.91601562 1.         0.99609375\n",
      "  0.81152344 0.12402344 0.37109375 0.69824219 0.9296875  0.99609375\n",
      "  0.96289062 0.77929688 0.29394531 0.33984375 0.47070312 0.85351562\n",
      "  0.75488281 0.77832031]\n",
      " [0.79394531 0.92089844 0.95410156 0.90625    0.99609375 1.\n",
      "  0.875      0.08300781 0.30957031 0.62597656 0.88964844 1.\n",
      "  0.92871094 0.72460938 0.22558594 0.27636719 0.51855469 0.890625\n",
      "  0.69824219 0.69921875]\n",
      " [0.46972656 0.93359375 0.88574219 0.75390625 0.81152344 0.875\n",
      "  1.         0.00488281 0.07617188 0.30859375 0.61230469 0.87011719\n",
      "  0.69433594 0.41503906 0.03320312 0.06152344 0.78417969 0.96582031\n",
      "  0.41113281 0.37597656]\n",
      " [0.38183594 0.02050781 0.06835938 0.16894531 0.12402344 0.08300781\n",
      "  0.00488281 1.         0.84960938 0.57421875 0.29882812 0.09082031\n",
      "  0.21875    0.50488281 0.921875   0.91210938 0.08300781 0.0078125\n",
      "  0.50976562 0.48535156]\n",
      " [0.64648438 0.13671875 0.22949219 0.36132812 0.37109375 0.30957031\n",
      "  0.07617188 0.84960938 1.         0.76367188 0.56640625 0.3125\n",
      "  0.48632812 0.77246094 0.98535156 0.93847656 0.00488281 0.09375\n",
      "  0.78125    0.70898438]\n",
      " [0.9453125  0.48632812 0.62597656 0.75488281 0.69824219 0.62597656\n",
      "  0.30859375 0.57421875 0.76367188 1.         0.89746094 0.62890625\n",
      "  0.84179688 0.92578125 0.74316406 0.83007812 0.09375    0.38183594\n",
      "  0.890625   0.99414062]\n",
      " [0.95898438 0.76757812 0.87695312 0.92089844 0.9296875  0.88964844\n",
      "  0.61230469 0.29882812 0.56640625 0.89746094 1.         0.890625\n",
      "  0.99511719 0.921875   0.49316406 0.57519531 0.27636719 0.67773438\n",
      "  0.89355469 0.93359375]\n",
      " [0.79882812 0.91308594 0.94824219 0.90234375 0.99609375 1.\n",
      "  0.87011719 0.09082031 0.3125     0.62890625 0.890625   1.\n",
      "  0.92675781 0.7265625  0.22949219 0.28320312 0.51074219 0.88378906\n",
      "  0.70410156 0.70898438]\n",
      " [0.92382812 0.83789062 0.91796875 0.95019531 0.96289062 0.92871094\n",
      "  0.69433594 0.21875    0.48632812 0.84179688 0.99511719 0.92675781\n",
      "  1.         0.89160156 0.41113281 0.48925781 0.34277344 0.75488281\n",
      "  0.86230469 0.890625  ]\n",
      " [0.89746094 0.53222656 0.6796875  0.81445312 0.77929688 0.72460938\n",
      "  0.41503906 0.50488281 0.77246094 0.92578125 0.921875   0.7265625\n",
      "  0.89160156 1.         0.70800781 0.78027344 0.12011719 0.44628906\n",
      "  0.99609375 0.91503906]\n",
      " [0.58496094 0.10058594 0.17480469 0.30957031 0.29394531 0.22558594\n",
      "  0.03320312 0.921875   0.98535156 0.74316406 0.49316406 0.22949219\n",
      "  0.41113281 0.70800781 1.         0.96875    0.015625   0.05078125\n",
      "  0.7109375  0.67578125]\n",
      " [0.66308594 0.14355469 0.2421875  0.40722656 0.33984375 0.27636719\n",
      "  0.06152344 0.91210938 0.93847656 0.83007812 0.57519531 0.28320312\n",
      "  0.48925781 0.78027344 0.96875    1.         0.01074219 0.08886719\n",
      "  0.77636719 0.75488281]\n",
      " [0.19921875 0.71777344 0.578125   0.38085938 0.47070312 0.51855469\n",
      "  0.78417969 0.08300781 0.00488281 0.09375    0.27636719 0.51074219\n",
      "  0.34277344 0.12011719 0.015625   0.01074219 1.         0.79980469\n",
      "  0.10449219 0.13476562]\n",
      " [0.56054688 0.99023438 0.93457031 0.79785156 0.85351562 0.890625\n",
      "  0.96582031 0.0078125  0.09375    0.38183594 0.67773438 0.88378906\n",
      "  0.75488281 0.44628906 0.05078125 0.08886719 0.79980469 1.\n",
      "  0.4296875  0.46386719]\n",
      " [0.859375   0.50683594 0.65625    0.79394531 0.75488281 0.69824219\n",
      "  0.41113281 0.50976562 0.78125    0.890625   0.89355469 0.70410156\n",
      "  0.86230469 0.99609375 0.7109375  0.77636719 0.10449219 0.4296875\n",
      "  1.         0.8828125 ]\n",
      " [0.98535156 0.56933594 0.69433594 0.79980469 0.77832031 0.69921875\n",
      "  0.37597656 0.48535156 0.70898438 0.99414062 0.93359375 0.70898438\n",
      "  0.890625   0.91503906 0.67578125 0.75488281 0.13476562 0.46386719\n",
      "  0.8828125  1.        ]]\n"
     ]
    }
   ],
   "source": [
    "print(kernel_A_train)"
   ]
  },
  {
   "cell_type": "code",
   "execution_count": 18,
   "metadata": {},
   "outputs": [
    {
     "name": "stdout",
     "output_type": "stream",
     "text": [
      "[[1.         0.9453125  0.83984375 0.96875    0.96777344 0.95019531\n",
      "  0.90429688 0.84667969 0.95117188 0.96875    0.9921875  0.86132812\n",
      "  0.85546875 0.84472656 0.95898438 0.83886719 0.91992188 0.99511719\n",
      "  0.91796875 0.99804688]\n",
      " [0.9453125  1.         0.77929688 0.99609375 0.96582031 0.84472656\n",
      "  0.79394531 0.77636719 0.96875    0.87304688 0.98339844 0.76757812\n",
      "  0.77636719 0.79785156 1.         0.78515625 0.96582031 0.90917969\n",
      "  0.80859375 0.96777344]\n",
      " [0.83984375 0.77929688 1.         0.78125    0.77636719 0.91113281\n",
      "  0.95410156 0.99511719 0.765625   0.89941406 0.79394531 0.96386719\n",
      "  0.99609375 0.99707031 0.77929688 1.         0.765625   0.85351562\n",
      "  0.90136719 0.80566406]\n",
      " [0.96875    0.99609375 0.78125    1.         0.98632812 0.87988281\n",
      "  0.81835938 0.78222656 0.98535156 0.90136719 0.99804688 0.78222656\n",
      "  0.78320312 0.79785156 1.         0.78515625 0.96582031 0.94140625\n",
      "  0.84472656 0.99316406]\n",
      " [0.96777344 0.96582031 0.77636719 0.98632812 1.         0.89746094\n",
      "  0.84179688 0.78417969 1.         0.91308594 0.98339844 0.79882812\n",
      "  0.78417969 0.79785156 0.96582031 0.78222656 0.98730469 0.9609375\n",
      "  0.87988281 0.9765625 ]\n",
      " [0.95019531 0.84472656 0.91113281 0.87988281 0.89746094 1.\n",
      "  0.99023438 0.93457031 0.87890625 0.99804688 0.89941406 0.95898438\n",
      "  0.94140625 0.91210938 0.85839844 0.90234375 0.84960938 0.97851562\n",
      "  0.99609375 0.91503906]\n",
      " [0.90429688 0.79394531 0.95410156 0.81835938 0.84179688 0.99023438\n",
      "  1.         0.97851562 0.80957031 0.96875    0.85058594 0.99511719\n",
      "  0.98535156 0.953125   0.79980469 0.94824219 0.79394531 0.93359375\n",
      "  0.98730469 0.87304688]\n",
      " [0.84667969 0.77636719 0.99511719 0.78222656 0.78417969 0.93457031\n",
      "  0.97851562 1.         0.77636719 0.91308594 0.79785156 0.99511719\n",
      "  1.         0.99609375 0.77636719 0.99023438 0.77246094 0.87988281\n",
      "  0.93457031 0.81152344]\n",
      " [0.95117188 0.96875    0.765625   0.98535156 1.         0.87890625\n",
      "  0.80957031 0.77636719 1.         0.89453125 0.96875    0.78320312\n",
      "  0.7734375  0.79003906 0.96777344 0.77636719 0.99804688 0.94042969\n",
      "  0.85058594 0.96484375]\n",
      " [0.96875    0.87304688 0.89941406 0.90136719 0.91308594 0.99804688\n",
      "  0.96875    0.91308594 0.89453125 1.         0.92871094 0.93359375\n",
      "  0.92382812 0.89941406 0.88867188 0.89648438 0.87011719 0.9921875\n",
      "  0.98339844 0.94824219]\n",
      " [0.9921875  0.98339844 0.79394531 0.99804688 0.98339844 0.89941406\n",
      "  0.85058594 0.79785156 0.96875    0.92871094 1.         0.79980469\n",
      "  0.79980469 0.80761719 0.99511719 0.79882812 0.94921875 0.96289062\n",
      "  0.87304688 1.        ]\n",
      " [0.86132812 0.76757812 0.96386719 0.78222656 0.79882812 0.95898438\n",
      "  0.99511719 0.99511719 0.78320312 0.93359375 0.79980469 1.\n",
      "  0.99023438 0.96777344 0.77246094 0.95410156 0.77832031 0.89746094\n",
      "  0.96582031 0.82128906]\n",
      " [0.85546875 0.77636719 0.99609375 0.78320312 0.78417969 0.94140625\n",
      "  0.98535156 1.         0.7734375  0.92382812 0.79980469 0.99023438\n",
      "  1.         0.99511719 0.77929688 0.9921875  0.76757812 0.8828125\n",
      "  0.93847656 0.82128906]\n",
      " [0.84472656 0.79785156 0.99707031 0.79785156 0.79785156 0.91210938\n",
      "  0.953125   0.99609375 0.79003906 0.89941406 0.80761719 0.96777344\n",
      "  0.99511719 1.         0.79394531 0.99902344 0.79394531 0.86914062\n",
      "  0.90722656 0.82128906]\n",
      " [0.95898438 1.         0.77929688 1.         0.96582031 0.85839844\n",
      "  0.79980469 0.77636719 0.96777344 0.88867188 0.99511719 0.77246094\n",
      "  0.77929688 0.79394531 1.         0.78417969 0.953125   0.91601562\n",
      "  0.82128906 0.98535156]\n",
      " [0.83886719 0.78515625 1.         0.78515625 0.78222656 0.90234375\n",
      "  0.94824219 0.99023438 0.77636719 0.89648438 0.79882812 0.95410156\n",
      "  0.9921875  0.99902344 0.78417969 1.         0.77929688 0.85058594\n",
      "  0.89648438 0.80859375]\n",
      " [0.91992188 0.96582031 0.765625   0.96582031 0.98730469 0.84960938\n",
      "  0.79394531 0.77246094 0.99804688 0.87011719 0.94921875 0.77832031\n",
      "  0.76757812 0.79394531 0.953125   0.77929688 1.         0.91210938\n",
      "  0.82617188 0.9375    ]\n",
      " [0.99511719 0.90917969 0.85351562 0.94140625 0.9609375  0.97851562\n",
      "  0.93359375 0.87988281 0.94042969 0.9921875  0.96289062 0.89746094\n",
      "  0.8828125  0.86914062 0.91601562 0.85058594 0.91210938 1.\n",
      "  0.95800781 0.97265625]\n",
      " [0.91796875 0.80859375 0.90136719 0.84472656 0.87988281 0.99609375\n",
      "  0.98730469 0.93457031 0.85058594 0.98339844 0.87304688 0.96582031\n",
      "  0.93847656 0.90722656 0.82128906 0.89648438 0.82617188 0.95800781\n",
      "  1.         0.89257812]\n",
      " [0.99804688 0.96777344 0.80566406 0.99316406 0.9765625  0.91503906\n",
      "  0.87304688 0.81152344 0.96484375 0.94824219 1.         0.82128906\n",
      "  0.82128906 0.82128906 0.98535156 0.80859375 0.9375     0.97265625\n",
      "  0.89257812 1.        ]]\n"
     ]
    }
   ],
   "source": [
    "print(kernel_B_train)"
   ]
  },
  {
   "cell_type": "code",
   "execution_count": null,
   "metadata": {},
   "outputs": [],
   "source": []
  }
 ],
 "metadata": {
  "kernelspec": {
   "display_name": "Python 3",
   "language": "python",
   "name": "python3"
  },
  "language_info": {
   "codemirror_mode": {
    "name": "ipython",
    "version": 3
   },
   "file_extension": ".py",
   "mimetype": "text/x-python",
   "name": "python",
   "nbconvert_exporter": "python",
   "pygments_lexer": "ipython3",
   "version": "3.7.3"
  }
 },
 "nbformat": 4,
 "nbformat_minor": 2
}
